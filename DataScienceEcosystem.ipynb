{
  "nbformat": 4,
  "nbformat_minor": 0,
  "metadata": {
    "colab": {
      "provenance": []
    },
    "kernelspec": {
      "name": "python3",
      "display_name": "Python 3"
    },
    "language_info": {
      "name": "python"
    }
  },
  "cells": [
    {
      "cell_type": "markdown",
      "source": [
        "# Data Science Tools and Ecosystem\n",
        "\n",
        "In this notebook, Data Science Tools and Ecosystem are summarized."
      ],
      "metadata": {
        "id": "luaRSdKMN724"
      }
    },
    {
      "cell_type": "markdown",
      "source": [
        "Objectives:\n",
        "\n",
        "\n",
        "* List popular Data Science languages.\n",
        "* List popular Data Science libraries.\n",
        "* List popular Data Science tools.\n",
        "* Execute some arithmetic operations.\n",
        "\n"
      ],
      "metadata": {
        "id": "ThWcibxNTpEm"
      }
    },
    {
      "cell_type": "markdown",
      "source": [
        "Some of the popular languages that Data Scientists use are:\n",
        "\n",
        "\n",
        "1. Python\n",
        "2. R\n",
        "3. SQL\n",
        "\n"
      ],
      "metadata": {
        "id": "EHKIj2OcPoXD"
      }
    },
    {
      "cell_type": "markdown",
      "source": [
        "Some of the commonly used libraries used by Data Scientists include:\n",
        "1. Python: Matplotlib, Seaborn, Pandas, Numpy, scikit-learn, PyTorch, TensorFlow.\n",
        "2. Scala libraries: Vegas, Big DL.\n",
        "3. R: ggplot2, libraries that allow you to interface with Keras and Tensorflow."
      ],
      "metadata": {
        "id": "RaBxdkPVQSVs"
      }
    },
    {
      "cell_type": "markdown",
      "source": [
        "\n",
        "|Data Science Tools|\n",
        "--------------------\n",
        "|Jupyter Nootebooks|\n",
        "|R Studio|\n",
        "|Apache Zeppelin|\n"
      ],
      "metadata": {
        "id": "7vPfdGTJRjx1"
      }
    },
    {
      "cell_type": "markdown",
      "source": [
        "### Below are a few examples of evaluating arithmetic expressions in Python"
      ],
      "metadata": {
        "id": "YxLJwnqBSvyN"
      }
    },
    {
      "cell_type": "code",
      "source": [
        "#This a simple arithmetic expression to mutiply then add integers\n",
        "(3*4)+5"
      ],
      "metadata": {
        "colab": {
          "base_uri": "https://localhost:8080/"
        },
        "id": "jc4AxLBfS9N3",
        "outputId": "0dfddc5b-1b53-4e07-d3fe-bdc103e19dec"
      },
      "execution_count": 2,
      "outputs": [
        {
          "output_type": "execute_result",
          "data": {
            "text/plain": [
              "17"
            ]
          },
          "metadata": {},
          "execution_count": 2
        }
      ]
    },
    {
      "cell_type": "code",
      "source": [
        "#This will convert 200 minutes to hours by diving by 60\n",
        "200/60"
      ],
      "metadata": {
        "colab": {
          "base_uri": "https://localhost:8080/"
        },
        "id": "BNSAX7B-TM2E",
        "outputId": "5f8f1b5d-c7b3-4d40-de90-1d9e4d7d16bb"
      },
      "execution_count": 3,
      "outputs": [
        {
          "output_type": "execute_result",
          "data": {
            "text/plain": [
              "3.3333333333333335"
            ]
          },
          "metadata": {},
          "execution_count": 3
        }
      ]
    },
    {
      "cell_type": "markdown",
      "source": [
        "## Author\n",
        "Rafael Mondragón"
      ],
      "metadata": {
        "id": "6H0Hha-pUuAP"
      }
    }
  ]
}